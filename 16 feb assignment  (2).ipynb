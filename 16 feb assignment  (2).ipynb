{
 "cells": [
  {
   "cell_type": "code",
   "execution_count": null,
   "id": "c1a0363b-2193-4008-9ff0-fd66e8663928",
   "metadata": {},
   "outputs": [],
   "source": [
    "Ans = 1\n",
    "A database is a collection of organized data that is stored and accessed electronically.\n",
    "It is designed to manage and manipulate large amounts of information efficiently and securely.\n",
    "\n",
    "SQL (Structured Query Language) databases are relational databases that use tables to organize data. \n",
    "They have a fixed schema, which means that the data is organized in a predefined structure, and any changes\n",
    "to the schema require altering the table structure. SQL databases use SQL as the primary language for \n",
    "managing and querying data. They are best suited for structured data with complex relationships and transactions, \n",
    "such as financial transactions and inventory management.\n",
    "\n",
    "NoSQL (Not Only SQL) databases, on the other hand, do not use tables and have a dynamic schema,\n",
    "which allows for more flexibility in managing unstructured and semi-structured data. \n",
    "NoSQL databases are often distributed, meaning that data is stored on multiple servers, \n",
    "which allows for scaling to handle large amounts of data and high traffic. NoSQL databases \n",
    "use a variety of languages and interfaces for managing data, depending on the specific type of database.\n",
    "They are best suited for handling large volumes of unstructured and semi-structured data,\n",
    "such as social media data and web analytics."
   ]
  },
  {
   "cell_type": "code",
   "execution_count": null,
   "id": "ead5ecff-3c12-4abb-bf3b-60eed5a1d4fd",
   "metadata": {},
   "outputs": [],
   "source": [
    "Ans = 2\n",
    "DDL stands for Data Definition Language, which is a subset of SQL (Structured Query Language) used to create,\n",
    "modify, and delete database objects such as tables, indexes, and views.\n",
    "\n",
    "1. create\n",
    "ex:\n",
    "    CREATE TABLE employees (\n",
    "    employee_id INT PRIMARY KEY,\n",
    "    employee_name VARCHAR(50),\n",
    "    employee_salary DECIMAL(10,2)\n",
    ");\n",
    "\n",
    "    \n",
    "2. Drop\n",
    "ex:\n",
    "    DROP TABLE employees;\n",
    "    \n",
    "    \n",
    "3. Alter\n",
    "ex:\n",
    "    ALTER TABLE employees\n",
    "ADD employee_department VARCHAR(50);\n",
    "\n",
    "4. Truncate \n",
    "ex:\n",
    "    TRUNCATE TABLE employees;\n"
   ]
  },
  {
   "cell_type": "code",
   "execution_count": null,
   "id": "b6fd803c-4c89-42c8-8b49-e0e99f022af6",
   "metadata": {},
   "outputs": [],
   "source": [
    "Ans = 3\n",
    "DML stands for Data Manipulation Language, \n",
    "which is a subset of SQL (Structured Query Language) used to manipulate and modify data within a database.\n",
    "\n",
    "1. Insert\n",
    "ex:\n",
    "    INSERT INTO employees (employee_id, employee_name, employee_salary)\n",
    "VALUES (1, 'John Doe', 50000);\n",
    "\n",
    "2 .Delete\n",
    "ex:\n",
    "DELETE FROM employees\n",
    "WHERE employee_id = 1;\n",
    "\n",
    "3. update\n",
    "ex:\n",
    "    UPDATE employees\n",
    "SET employee_salary = 60000\n",
    "WHERE employee_id = 1;\n"
   ]
  },
  {
   "cell_type": "code",
   "execution_count": null,
   "id": "2c13040a-f3c8-46fb-860f-bc104bcde4bd",
   "metadata": {},
   "outputs": [],
   "source": [
    "Ans = 4\n",
    "DQL stands for Data Query Language, \n",
    "which is a subset of SQL (Structured Query Language) used to query and retrieve data from a database.\n",
    "\n",
    "1. select\n",
    "ex:\n",
    "    SELECT *\n",
    "FROM employees;\n",
    "\n",
    "SELECT employee_name, employee_salary\n",
    "FROM employees;\n",
    "\n",
    "SELECT *\n",
    "FROM employees\n",
    "WHERE employee_salary >= 50000;\n"
   ]
  },
  {
   "cell_type": "code",
   "execution_count": null,
   "id": "1c60993a-8b61-466f-b40b-c0b89d3b7ac7",
   "metadata": {},
   "outputs": [],
   "source": [
    "Ans = 5\n",
    "1. \n",
    "Primary Key: A primary key is a column or a set of columns in a table that uniquely identifies each row. \n",
    "It is used to ensure that each row in the table is unique and can be easily referenced by other tables. \n",
    "Primary keys can be a single column or a combination of columns. They must be unique, not null, and immutable.\n",
    "\n",
    "2.Foreign Key: A foreign key is a column or a set of columns in a table that references the primary key of \n",
    "another table. It is used to establish relationships between tables and ensure data consistency. Foreign \n",
    "keys help enforce referential integrity, which means that the data in one table must match the data in another\n",
    "table."
   ]
  },
  {
   "cell_type": "code",
   "execution_count": null,
   "id": "720a8fa5-d08f-425f-90da-b33d76214610",
   "metadata": {},
   "outputs": [],
   "source": [
    "Ans = 6\n",
    "import mysql.connector\n",
    "\n",
    "# Connect to MySQL\n",
    "mydb = mysql.connector.connect(\n",
    "  host=\"localhost\",\n",
    "  user=\"yourusername\",\n",
    "  password=\"yourpassword\",\n",
    "  database=\"mydatabase\"\n",
    ")\n",
    "\n",
    "# Create a cursor object\n",
    "mycursor = mydb.cursor()\n",
    "\n",
    "# Create a table\n",
    "mycursor.execute(\"CREATE TABLE customers (id INT AUTO_INCREMENT PRIMARY KEY, name VARCHAR(255), address VARCHAR(255))\")\n",
    "\n",
    "# Insert data into the table\n",
    "sql = \"INSERT INTO customers (name, address) VALUES (%s, %s)\"\n",
    "val = (\"John\", \"Highway 21\")\n",
    "mycursor.execute(sql, val)\n",
    "\n",
    "# Commit the changes\n",
    "mydb.commit()\n",
    "\n",
    "# Print the number of inserted rows\n",
    "print(mycursor.rowcount, \"row(s) inserted.\")\n"
   ]
  },
  {
   "cell_type": "code",
   "execution_count": null,
   "id": "b29e3ea5-19e4-4612-8a36-b40fc4fab8b3",
   "metadata": {},
   "outputs": [],
   "source": [
    "Ans = 7\n"
   ]
  }
 ],
 "metadata": {
  "kernelspec": {
   "display_name": "Python 3 (ipykernel)",
   "language": "python",
   "name": "python3"
  },
  "language_info": {
   "codemirror_mode": {
    "name": "ipython",
    "version": 3
   },
   "file_extension": ".py",
   "mimetype": "text/x-python",
   "name": "python",
   "nbconvert_exporter": "python",
   "pygments_lexer": "ipython3",
   "version": "3.10.8"
  }
 },
 "nbformat": 4,
 "nbformat_minor": 5
}
